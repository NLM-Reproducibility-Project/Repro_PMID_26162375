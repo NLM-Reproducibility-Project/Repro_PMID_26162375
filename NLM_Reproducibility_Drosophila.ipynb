{
 "cells": [
  {
   "cell_type": "code",
   "execution_count": null,
   "metadata": {},
   "outputs": [],
   "source": [
    "Reproducibility\n",
    "\n",
    "##Paper\n",
    "# “Drosophila anti-nematode and antibacterial immune regulators revealed by RNA-Seq,” BMC Genomics \n",
    "# https://doi.org/10.1186/s12864-015-1690-2"
   ]
  },
  {
   "cell_type": "code",
   "execution_count": null,
   "metadata": {
    "collapsed": true
   },
   "outputs": [],
   "source": [
    "# \n",
    "get public key and log on to AWS\n",
    "\n",
    "##Get Data\n",
    "\n",
    "#RNA-seq Data\n",
    "#https://www.ncbi.nlm.nih.gov/geo/query/acc.cgi?token-szetgcuwtvsvhyf&acc=GSE61466\n",
    "\n",
    "# Sample: XGWIE_Symbiotic30h\n",
    "fastq-dump -I --split-files -O datasets --gzip SRR1574318\n",
    "\n",
    "# Sample: XGWIE_Uninfectedcontrol\n",
    "fastq-dump -I --split-files -O datasets --gzip SRR1573961\n",
    "\n",
    "# Reference Genome\n",
    "#ftp://ftp.ensembl.org/pub/release-78/fasta/drosophila_melanogaster/dna/\n",
    "wget ftp://ftp.ensembl.org/pub/release-78/fasta/drosophila_melanogaster/dna/ -r\n",
    "    \n",
    "# .gtf file\n",
    "wget..."
   ]
  },
  {
   "cell_type": "code",
   "execution_count": 2,
   "metadata": {},
   "outputs": [
    {
     "ename": "SyntaxError",
     "evalue": "invalid syntax (<ipython-input-2-9732f8d2847f>, line 5)",
     "output_type": "error",
     "traceback": [
      "\u001b[0;36m  File \u001b[0;32m\"<ipython-input-2-9732f8d2847f>\"\u001b[0;36m, line \u001b[0;32m5\u001b[0m\n\u001b[0;31m    wget https://repo.continuum.io/miniconda/Miniconda3-latest-Linux-x86_64.sh\u001b[0m\n\u001b[0m             ^\u001b[0m\n\u001b[0;31mSyntaxError\u001b[0m\u001b[0;31m:\u001b[0m invalid syntax\n"
     ]
    }
   ],
   "source": [
    "##Get Software\n",
    "Bioconda\n",
    "# Steps to set up bioconda\n",
    "# 1. Download miniconda\n",
    "wget https://repo.continuum.io/miniconda/Miniconda3-latest-Linux-x86_64.sh\n",
    "chmod +x Miniconda3-latest-Linux-x86_64.sh\n",
    "./Miniconda3-latest-Linux-x86_64.sh\n",
    "\n",
    "# 2. log out the server\n",
    "# 3. set up channels\n",
    "conda config --add channels defaults\n",
    "conda config --add channels bioconda\n",
    "conda config --add channels conda-forge\n",
    "\n",
    "## to install packages\n",
    "conda install r\n",
    "\n",
    "## to search for packages\n",
    "conda search bwa\n",
    "\n",
    "## Reference: https://bioconda.github.io\n",
    "\n",
    "# SRAtoolkit\n",
    "conda install sra-tools\n",
    "\n",
    "#FastQC\n",
    "conda install fastqc #(Do we need fastqc??)\n",
    "\n",
    "#Bowtie\n",
    "#Tophat\n",
    "#HTseq\n",
    "conda install htseq\n",
    "\n",
    "# R \n",
    "conda install r\n",
    "\n",
    "# DEseq \n",
    "conda install bioconductor-deseq\n",
    "\n",
    "# Sam tools\n",
    "\n",
    "# cufflinks\n",
    "conda install cufflinks\n"
   ]
  }
 ],
 "metadata": {
  "kernelspec": {
   "display_name": "Python 3",
   "language": "python",
   "name": "python3"
  },
  "language_info": {
   "codemirror_mode": {
    "name": "ipython",
    "version": 3
   },
   "file_extension": ".py",
   "mimetype": "text/x-python",
   "name": "python",
   "nbconvert_exporter": "python",
   "pygments_lexer": "ipython3",
   "version": "3.6.4"
  }
 },
 "nbformat": 4,
 "nbformat_minor": 2
}
