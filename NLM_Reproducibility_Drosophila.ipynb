{
 "cells": [
  {
   "cell_type": "code",
   "execution_count": 2,
   "metadata": {},
   "outputs": [
    {
     "ename": "NameError",
     "evalue": "name 'Reproducibility' is not defined",
     "output_type": "error",
     "traceback": [
      "\u001b[0;31m---------------------------------------------------------------------------\u001b[0m",
      "\u001b[0;31mNameError\u001b[0m                                 Traceback (most recent call last)",
      "\u001b[0;32m<ipython-input-2-abf1c66bee1b>\u001b[0m in \u001b[0;36m<module>\u001b[0;34m()\u001b[0m\n\u001b[0;32m----> 1\u001b[0;31m \u001b[0mReproducibility\u001b[0m\u001b[0;34m\u001b[0m\u001b[0m\n\u001b[0m\u001b[1;32m      2\u001b[0m \u001b[0;34m\u001b[0m\u001b[0m\n\u001b[1;32m      3\u001b[0m \u001b[0;31m##Paper\u001b[0m\u001b[0;34m\u001b[0m\u001b[0;34m\u001b[0m\u001b[0m\n\u001b[1;32m      4\u001b[0m \u001b[0;31m# “Drosophila anti-nematode and antibacterial immune regulators revealed by RNA-Seq,” BMC Genomics\u001b[0m\u001b[0;34m\u001b[0m\u001b[0;34m\u001b[0m\u001b[0m\n\u001b[1;32m      5\u001b[0m \u001b[0;31m# https://doi.org/10.1186/s12864-015-1690-2\u001b[0m\u001b[0;34m\u001b[0m\u001b[0;34m\u001b[0m\u001b[0m\n",
      "\u001b[0;31mNameError\u001b[0m: name 'Reproducibility' is not defined"
     ]
    }
   ],
   "source": [
    "Reproducibility\n",
    "\n",
    "##Paper\n",
    "# “Drosophila anti-nematode and antibacterial immune regulators revealed by RNA-Seq,” BMC Genomics \n",
    "# https://doi.org/10.1186/s12864-015-1690-2"
   ]
  },
  {
   "cell_type": "code",
   "execution_count": null,
   "metadata": {
    "collapsed": true
   },
   "outputs": [],
   "source": [
    "##Get Data\n",
    "\n",
    "#RNA-seq Data\n",
    "#https://www.ncbi.nlm.nih.gov/geo/query/acc.cgi?token-szetgcuwtvsvhyf&acc=GSE61466\n",
    "\n",
    "# Reference Genome\n",
    "#ftp://ftp.ensembl.org/pub/release-78/fasta/drosophila_melanogaster/dna/\n",
    "wget ftp://ftp.ensembl.org/pub/release-78/fasta/drosophila_melanogaster/dna/ -r\n",
    "    \n",
    "# .gtf file\n",
    "wget..."
   ]
  },
  {
   "cell_type": "code",
   "execution_count": 1,
   "metadata": {},
   "outputs": [
    {
     "ename": "SyntaxError",
     "evalue": "invalid syntax (<ipython-input-1-cbb99279c00c>, line 10)",
     "output_type": "error",
     "traceback": [
      "\u001b[0;36m  File \u001b[0;32m\"<ipython-input-1-cbb99279c00c>\"\u001b[0;36m, line \u001b[0;32m10\u001b[0m\n\u001b[0;31m    Sam tools\u001b[0m\n\u001b[0m            ^\u001b[0m\n\u001b[0;31mSyntaxError\u001b[0m\u001b[0;31m:\u001b[0m invalid syntax\n"
     ]
    }
   ],
   "source": [
    "##Get Software\n",
    "Bioconda\n",
    "# Steps to set up bioconda\n",
    "# Downloads miniconda\n",
    "# wget https://repo.continuum.io/miniconda/Miniconda3-latest-Linux-x86_64.sh\n",
    "# chmod +x Miniconda3-latest-Linux-x86_64.sh\n",
    "# log out ther server\n",
    "# set up channels\n",
    "# conda config --add channels defaults\n",
    "# conda config --add channels bioconda\n",
    "# conda config --add channels conda-forge\n",
    "# to install packages\n",
    "# conda install r\n",
    "# to search for packages\n",
    "# conda search bwa\n",
    "# Reference: https://bioconda.github.io\n",
    "\n",
    "SRAtoolkit\n",
    "FastQC\n",
    "Bowtie\n",
    "Tophat\n",
    "HTseq\n",
    "R conda install r\n",
    "DEseq conda install bioconductor-deseq\n",
    "Sam tools\n"
   ]
  },
  {
   "cell_type": "code",
   "execution_count": null,
   "metadata": {},
   "outputs": [],
   "source": []
  }
 ],
 "metadata": {
  "kernelspec": {
   "display_name": "Python 3",
   "language": "python",
   "name": "python3"
  },
  "language_info": {
   "codemirror_mode": {
    "name": "ipython",
    "version": 3
   },
   "file_extension": ".py",
   "mimetype": "text/x-python",
   "name": "python",
   "nbconvert_exporter": "python",
   "pygments_lexer": "ipython3",
   "version": "3.6.4"
  }
 },
 "nbformat": 4,
 "nbformat_minor": 2
}
