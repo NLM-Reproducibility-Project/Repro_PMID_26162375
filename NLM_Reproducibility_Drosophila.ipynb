{
 "cells": [
  {
   "cell_type": "markdown",
   "metadata": {},
   "source": [
    "# Reproducibility\n",
    "\n",
    "## Paper\n",
    "\n",
    "### “Drosophila anti-nematode and antibacterial immune regulators revealed by RNA-Seq,” BMC Genomics \n",
    "### https://doi.org/10.1186/s12864-015-1690-2"
   ]
  },
  {
   "cell_type": "code",
   "execution_count": null,
   "metadata": {
    "collapsed": true
   },
   "outputs": [],
   "source": [
    "%%bash\n",
    "# get public key and log on to AWS\n",
    "\n",
    "##Get Data\n",
    "\n",
    "#RNA-seq Data\n",
    "#https://www.ncbi.nlm.nih.gov/geo/query/acc.cgi?token-szetgcuwtvsvhyf&acc=GSE61466\n",
    "\n",
    "# Sample: XGWIE_Symbiotic30h\n",
    "fastq-dump -I --split-files -O datasets --gzip SRR1574318\n",
    "\n",
    "# Sample: XGWIE_Uninfectedcontrol\n",
    "fastq-dump -I --split-files -O datasets --gzip SRR1573961\n",
    "\n",
    "# Reference Genome\n",
    "#ftp://ftp.ensembl.org/pub/release-78/fasta/drosophila_melanogaster/dna/\n",
    " wget -r --no-parent ftp://ftp.ensembl.org/pub/release-78/fasta/drosophila_melanogaster/dna/\n",
    "    \n",
    "# .gtf file\n",
    "wget ftp://ftp.ensembl.org/pub/release-78/gtf/drosophila_melanogaster/Drosophila_melanogaster.BDGP5.78.gtf.gz"
   ]
  },
  {
   "cell_type": "code",
   "source": [
    "%%bash\n",
    "##Get Software\n",
    "# Bioconda\n",
    "# Steps to set up bioconda\n",
    "# 1. Download miniconda\n",
    "wget https://repo.continuum.io/miniconda/Miniconda3-latest-Linux-x86_64.sh\n",
    "chmod +x Miniconda3-latest-Linux-x86_64.sh\n",
    "./Miniconda3-latest-Linux-x86_64.sh\n",
    "\n",
    "# 2. log out the server\n",
    "# 3. set up channels\n",
    "conda config --add channels defaults\n",
    "conda config --add channels bioconda\n",
    "conda config --add channels conda-forge\n",
    "\n",
    "## to install packages\n",
    "conda install -y r\n",
    "\n",
    "## to search for packages\n",
    "conda search bwa\n",
    "\n",
    "## Reference: https://bioconda.github.io\n",
    "\n",
    "# Install SRAtoolkit, HTseq, R, DEseq, cufflinks from Bioconda\n",
    "conda install -y sra-tools htseq r deseq cufflinks\n",
    "\n",
    "#FastQC\n",
    "conda install -y fastqc #(Do we need fastqc??)\n",
    "\n",
    "#Bowtie\n",
    "\n",
    "#Tophat\n",
    "# Sam tools\n",
    "\n"
   ]
  },
  {
   "cell_type": "code",
   "execution_count": null,
   "metadata": {
    "collapsed": true
   },
   "outputs": [],
   "source": [
  {
   "cell_type": "markdown",
   "metadata": {},
   "source": [
    "##Alignment reads and coverage analysis\n",
    "**Requires: unzipped gtf file; Tophat, Bowtie, SAMtools are installed**\n",
    "***\n",
    "<br>"
   ]
  },
  {
   "cell_type": "code",
   "execution_count": null,
   "metadata": {},
   "outputs": [],
   "source": [
    "%%bash\n",
    "tophat -r 101 \\\n",
    "       --segment-mismatches 2 \\\n",
    "       --segment-length 30 \\\n",
    "       -x 25 \\\n",
    "       -G ~/datasets/Drosophila/Drosophila_melanogaster.BDGP5.78.gtf \\\n",
    "       -p 2 ~/datasets/Drosophila_melanogaster.BDGP5.dna.toplevel \\\n",
    "       ~/datasets/SRR1573961_1.fastq.gz ~/datasets/SRR1573961_2.fastq.gz"
    "#Alignment reads and coverage analysis"
   ]
  },
  {
   "cell_type": "code",
   "execution_count": null,
   "metadata": {
    "collapsed": true
   },
   "outputs": [],
   "source": [
    "#Differential gene expression analysis\n",
    "\n",
    "#Calculate RPKM\n",
    "#R Version 3.3.1\n",
    "\n",
    "#Generate data frame with Data\n",
    "Gene_Name = c(\"A\",\"B\",'C','D')\n",
    "Length_in_KB = c(2,4,1,10)\n",
    "Rep1_Counts = c(10, 20, 5, 0)\n",
    "Rep2_Counts = c(12, 25, 8, 0)\n",
    "Rep3_Counts = c(30, 60, 15, 1)\n",
    "df = data.frame(Gene_Name,Length_in_KB,Rep1_Counts,Rep2_Counts,Rep3_Counts)\n",
    "\n",
    "#Find RPM and RPKM\n",
    "scalingFactor = colSums(df[3:5])/10^6 \n",
    "RPM = cbind(df[,1:2],t(t(df[3:5])/scalingFactor))\n",
    "RPKM = cbind(RPM[1:2],RPM[,3:5]/RPM[,2])\n",
    "\n",
    "#based on https://www.rna-seqblog.com/rpkm-fpkm-and-tpm-clearly-explained/\n"
   ]
  },
  {
   "cell_type": "code",
   "execution_count": null,
   "metadata": {
    "collapsed": true
   },
   "outputs": [],
   "source": [
    "#Transcript analysis using CUFFLINKS"
   ]
  },
  {
   "cell_type": "code",
   "execution_count": null,
   "metadata": {
    "collapsed": true
   },
   "outputs": [],
   "source": [
    "#Differential transcript analysis using Cuffdiff"
   ]
  },
  {
   "cell_type": "code",
   "execution_count": null,
   "metadata": {},
   "outputs": [],
   "source": [
    "#Gene ontology analysis (GO)"
   ]
  },
  {
   "cell_type": "code",
   "execution_count": null,
   "metadata": {},
   "outputs": [],
   "source": [
    "#Differential gene expression analysis using DESeq and General Linear Model\n",
    "\n",
    "# read count generated using HTSeq\n",
    "htseq-count --stranded=no -f bam BT20_accepted_hits.bam T47D_accepted_hits.bam merged.gtf > result2"
   ]
  },
  {
   "cell_type": "code",
   "execution_count": null,
   "metadata": {
    "collapsed": true
   },
   "outputs": [],
   "source": [
    "%%R\n",
    "library(DESeq)\n",
    "library(Biobase)\n",
    "\n",
    "# import the read counts for DESeq\n",
    "countTable <- read.table('result2', header=FALSE, row.names=1)\n",
    "condition <- c('treatment', 'control')\n",
    "colnames(test) <- condition\n",
    "condition <- factor(condition)\n",
    "# get the countDataSet instance\n",
    "cds = newCountDataSet( countTable, condition )\n",
    "\n",
    "# normalization\n",
    "cds = estimateSizeFactors( cds )\n",
    "\n",
    "# variance estimation without replicates\n",
    "cds = estimateDispersions( cds, method=\"blind\", sharingMode=\"fit-only\" )\n",
    "\n",
    "# differential expression testing\n",
    "res = nbinomTest( cds, \"control\", \"treatment\" )"
   ]
  }
 ],
 "metadata": {
  "kernelspec": {
   "display_name": "Python 3",
   "language": "python",
   "name": "python3"
  },
  "language_info": {
   "codemirror_mode": {
    "name": "ipython",
    "version": 3
   },
   "file_extension": ".py",
   "mimetype": "text/x-python",
   "name": "python",
   "nbconvert_exporter": "python",
   "pygments_lexer": "ipython3",
  }
 },
 "nbformat": 4,
 "nbformat_minor": 2
}
