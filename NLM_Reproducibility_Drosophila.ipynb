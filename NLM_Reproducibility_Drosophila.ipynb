{
 "cells": [
  {
   "cell_type": "markdown",
   "metadata": {},
   "source": [
    "# Reproducibility\n",
    "\n",
    "## Paper\n",
    "\n",
    "### “Drosophila anti-nematode and antibacterial immune regulators revealed by RNA-Seq,” BMC Genomics \n",
    "### https://doi.org/10.1186/s12864-015-1690-2"
   ]
  },
  {
   "cell_type": "code",
   "execution_count": null,
   "metadata": {
    "collapsed": true
   },
   "outputs": [],
   "source": [
    "%%bash\n",
    "# get public key and log on to AWS\n",
    "\n",
    "##Get Data\n",
    "\n",
    "#RNA-seq Data\n",
    "#https://www.ncbi.nlm.nih.gov/geo/query/acc.cgi?token-szetgcuwtvsvhyf&acc=GSE61466\n",
    "\n",
    "# Sample: XGWIE_Symbiotic30h\n",
    "fastq-dump -I --split-files -O datasets --gzip SRR1574318\n",
    "\n",
    "# Sample: XGWIE_Uninfectedcontrol\n",
    "fastq-dump -I --split-files -O datasets --gzip SRR1573961\n",
    "\n",
    "# Reference Genome\n",
    "#ftp://ftp.ensembl.org/pub/release-78/fasta/drosophila_melanogaster/dna/\n",
    " wget -r --no-parent ftp://ftp.ensembl.org/pub/release-78/fasta/drosophila_melanogaster/dna/\n",
    "    \n",
    "# .gtf file\n",
    "wget ftp://ftp.ensembl.org/pub/release-78/gtf/drosophila_melanogaster/Drosophila_melanogaster.BDGP5.78.gtf.gz"
   ]
  },
  {
   "cell_type": "code",
   "execution_count": 3,
   "metadata": {
    "collapsed": false
   },
   "outputs": [
    {
     "name": "stdout",
     "output_type": "stream",
     "text": [
      "Solving environment: ...working... done\n",
      "\n",
      "## Package Plan ##\n",
      "\n",
      "  environment location: /Users/henryrenee/anaconda2\n",
      "\n",
      "  added / updated specs: \n",
      "    - r\n",
      "\n",
      "\n",
      "The following packages will be downloaded:\n",
      "\n",
      "    package                    |            build\n",
      "    ---------------------------|-----------------\n",
      "    r-recommended-3.4.1        |         r3.4.1_0           3 KB  conda-forge\n",
      "    r-3.4.1                    |         r3.4.1_0           3 KB  conda-forge\n",
      "    r-class-7.3_14             |   r341hc070d10_2         102 KB  conda-forge\n",
      "    r-survival-2.42_6          |   r341hc070d10_1         4.3 MB  conda-forge\n",
      "    r-spatial-7.3_11           |   r341hc070d10_2         147 KB  conda-forge\n",
      "    r-codetools-0.2_15         |   r341h6115d3f_1          49 KB  conda-forge\n",
      "    r-boot-1.3_20              |           r341_0         625 KB  conda-forge\n",
      "    r-kernsmooth-2.23_15       |   r341h364d78e_2          94 KB  conda-forge\n",
      "    r-rpart-4.1_13             |   r341hc070d10_2         912 KB  conda-forge\n",
      "    r-foreign-0.8_71           |   r341hc070d10_2         273 KB  conda-forge\n",
      "    ------------------------------------------------------------\n",
      "                                           Total:         6.5 MB\n",
      "\n",
      "The following NEW packages will be INSTALLED:\n",
      "\n",
      "    r:             3.4.1-r3.4.1_0         conda-forge\n",
      "    r-boot:        1.3_20-r341_0          conda-forge\n",
      "    r-class:       7.3_14-r341hc070d10_2  conda-forge\n",
      "    r-codetools:   0.2_15-r341h6115d3f_1  conda-forge\n",
      "    r-foreign:     0.8_71-r341hc070d10_2  conda-forge\n",
      "    r-kernsmooth:  2.23_15-r341h364d78e_2 conda-forge\n",
      "    r-recommended: 3.4.1-r3.4.1_0         conda-forge\n",
      "    r-rpart:       4.1_13-r341hc070d10_2  conda-forge\n",
      "    r-spatial:     7.3_11-r341hc070d10_2  conda-forge\n",
      "    r-survival:    2.42_6-r341hc070d10_1  conda-forge\n",
      "\n",
      "Proceed ([y]/n)? \n",
      "\n",
      "Downloading and Extracting Packages\n",
      "Preparing transaction: ...working... done\n",
      "Verifying transaction: ...working... done\n",
      "Executing transaction: ...working... done\n"
     ]
    },
    {
     "name": "stderr",
     "output_type": "stream",
     "text": [
      "bash: line 2: Bioconda: command not found\n",
      "bash: line 5: wget: command not found\n",
      "chmod: Miniconda3-latest-Linux-x86_64.sh: No such file or directory\n",
      "bash: line 7: ./Miniconda3-latest-Linux-x86_64.sh: No such file or directory\n",
      "Warning: 'defaults' already in 'channels' list, moving to the top\n",
      "Warning: 'bioconda' already in 'channels' list, moving to the top\n",
      "Warning: 'conda-forge' already in 'channels' list, moving to the top\n",
      "\n",
      "\n",
      "==> WARNING: A newer version of conda exists. <==\n",
      "  current version: 4.5.4\n",
      "  latest version: 4.5.11\n",
      "\n",
      "Please update conda by running\n",
      "\n",
      "    $ conda update -n base conda\n",
      "\n",
      "\n",
      "\r",
      "r-recommended-3.4.1  |    3 KB |            |   0% \r",
      "r-recommended-3.4.1  |    3 KB | #######5   |  75% \r",
      "r-recommended-3.4.1  |    3 KB | ########## | 100% \n",
      "\r",
      "r-3.4.1              |    3 KB |            |   0% \r",
      "r-3.4.1              |    3 KB | #######5   |  75% \r",
      "r-3.4.1              |    3 KB | ########## | 100% \n",
      "\r",
      "r-class-7.3_14       |  102 KB |            |   0% \r",
      "r-class-7.3_14       |  102 KB | #1         |  12% \r",
      "r-class-7.3_14       |  102 KB | ########## | 100% \n",
      "\r",
      "r-survival-2.42_6    |  4.3 MB |            |   0% \r",
      "r-survival-2.42_6    |  4.3 MB |            |   0% \r",
      "r-survival-2.42_6    |  4.3 MB | 5          |   6% \r",
      "r-survival-2.42_6    |  4.3 MB | #2         |  13% \r",
      "r-survival-2.42_6    |  4.3 MB | ##         |  20% \r",
      "r-survival-2.42_6    |  4.3 MB | ##7        |  27% \r",
      "r-survival-2.42_6    |  4.3 MB | ###4       |  35% \r",
      "r-survival-2.42_6    |  4.3 MB | ####2      |  43% \r",
      "r-survival-2.42_6    |  4.3 MB | #####      |  50% \r",
      "r-survival-2.42_6    |  4.3 MB | #####7     |  58% \r",
      "r-survival-2.42_6    |  4.3 MB | ######4    |  65% \r",
      "r-survival-2.42_6    |  4.3 MB | #######2   |  72% \r",
      "r-survival-2.42_6    |  4.3 MB | #######9   |  80% \r",
      "r-survival-2.42_6    |  4.3 MB | ########5  |  85% \r",
      "r-survival-2.42_6    |  4.3 MB | ########9  |  90% \r",
      "r-survival-2.42_6    |  4.3 MB | #########3 |  94% \r",
      "r-survival-2.42_6    |  4.3 MB | #########7 |  97% \r",
      "r-survival-2.42_6    |  4.3 MB | ########## | 100% \n",
      "\r",
      "r-spatial-7.3_11     |  147 KB |            |   0% \r",
      "r-spatial-7.3_11     |  147 KB | 8          |   8% \r",
      "r-spatial-7.3_11     |  147 KB | ########## | 100% \n",
      "\r",
      "r-codetools-0.2_15   |   49 KB |            |   0% \r",
      "r-codetools-0.2_15   |   49 KB | ##4        |  25% \r",
      "r-codetools-0.2_15   |   49 KB | ########## | 100% \n",
      "\r",
      "r-boot-1.3_20        |  625 KB |            |   0% \r",
      "r-boot-1.3_20        |  625 KB | 1          |   2% \r",
      "r-boot-1.3_20        |  625 KB | ###8       |  38% \r",
      "r-boot-1.3_20        |  625 KB | #######6   |  77% \r",
      "r-boot-1.3_20        |  625 KB | ########## | 100% \n",
      "\r",
      "r-kernsmooth-2.23_15 |   94 KB |            |   0% \r",
      "r-kernsmooth-2.23_15 |   94 KB | #2         |  13% \r",
      "r-kernsmooth-2.23_15 |   94 KB | ########## | 100% \n",
      "\r",
      "r-rpart-4.1_13       |  912 KB |            |   0% \r",
      "r-rpart-4.1_13       |  912 KB | 1          |   1% \r",
      "r-rpart-4.1_13       |  912 KB | ###        |  30% \r",
      "r-rpart-4.1_13       |  912 KB | #####3     |  54% \r",
      "r-rpart-4.1_13       |  912 KB | #######9   |  79% \r",
      "r-rpart-4.1_13       |  912 KB | #########6 |  96% \r",
      "r-rpart-4.1_13       |  912 KB | ########## | 100% \n",
      "\r",
      "r-foreign-0.8_71     |  273 KB |            |   0% \r",
      "r-foreign-0.8_71     |  273 KB | 4          |   4% \r",
      "r-foreign-0.8_71     |  273 KB | ###        |  31% \r",
      "r-foreign-0.8_71     |  273 KB | ######6    |  66% \r",
      "r-foreign-0.8_71     |  273 KB | ########## | 100% \n"
     ]
    }
   ],
   "source": [
    "%%bash\n",
    "##Get Software\n",
    "Bioconda\n",
    "# Steps to set up bioconda\n",
    "# 1. Download miniconda\n",
    "wget https://repo.continuum.io/miniconda/Miniconda3-latest-Linux-x86_64.sh\n",
    "chmod +x Miniconda3-latest-Linux-x86_64.sh\n",
    "./Miniconda3-latest-Linux-x86_64.sh\n",
    "\n",
    "# 2. log out the server\n",
    "# 3. set up channels\n",
    "conda config --add channels defaults\n",
    "conda config --add channels bioconda\n",
    "conda config --add channels conda-forge\n",
    "\n",
    "## to install packages\n",
    "conda install -y r\n",
    "\n",
    "## to search for packages\n",
    "conda search bwa\n",
    "\n",
    "## Reference: https://bioconda.github.io\n",
    "\n",
    "# Install SRAtoolkit, HTseq, R, DEseq, cufflinks from Bioconda\n",
    "conda install -y sra-tools htseq r deseq cufflinks\n",
    "\n",
    "#FastQC\n",
    "conda install -y fastqc #(Do we need fastqc??)\n",
    "\n",
    "#Bowtie\n",
    "#Tophat\n",
    "# Sam tools\n",
    "\n"
   ]
  },
  {
   "cell_type": "code",
   "execution_count": null,
   "metadata": {
    "collapsed": true
   },
   "outputs": [],
   "source": [
    "# DGE analysis using DESeq and GLM\n",
    "\n",
    "# read count generated using HTSeq\n",
    "htseq-count --stranded=no -f bam BT20_accepted_hits.bam merged.gtf > result\n",
    "\n"
   ]
  },
  {
   "cell_type": "code",
   "execution_count": null,
   "metadata": {
    "collapsed": true
   },
   "outputs": [],
   "source": [
    "#Alignment reads and coverage analysis"
   ]
  },
  {
   "cell_type": "code",
   "execution_count": null,
   "metadata": {
    "collapsed": true
   },
   "outputs": [],
   "source": [
    "#Differential gene expression analysis\n",
    "\n",
    "#Calculate RPKM\n",
    "#R Version 3.3.1\n",
    "\n",
    "#Generate data frame with Data\n",
    "Gene_Name = c(\"A\",\"B\",'C','D')\n",
    "Length_in_KB = c(2,4,1,10)\n",
    "Rep1_Counts = c(10, 20, 5, 0)\n",
    "Rep2_Counts = c(12, 25, 8, 0)\n",
    "Rep3_Counts = c(30, 60, 15, 1)\n",
    "df = data.frame(Gene_Name,Length_in_KB,Rep1_Counts,Rep2_Counts,Rep3_Counts)\n",
    "\n",
    "#Find RPM and RPKM\n",
    "scalingFactor = colSums(df[3:5])/10^6 \n",
    "RPM = cbind(df[,1:2],t(t(df[3:5])/scalingFactor))\n",
    "RPKM = cbind(RPM[1:2],RPM[,3:5]/RPM[,2])\n",
    "\n",
    "#based on https://www.rna-seqblog.com/rpkm-fpkm-and-tpm-clearly-explained/\n"
   ]
  },
  {
   "cell_type": "code",
   "execution_count": null,
   "metadata": {
    "collapsed": true
   },
   "outputs": [],
   "source": [
    "#Transcript analysis using CUFFLINKS"
   ]
  },
  {
   "cell_type": "code",
   "execution_count": null,
   "metadata": {
    "collapsed": true
   },
   "outputs": [],
   "source": [
    "#Differential transcript analysis using Cuffdiff"
   ]
  },
  {
   "cell_type": "code",
   "execution_count": null,
   "metadata": {
    "collapsed": true
   },
   "outputs": [],
   "source": [
    "#Gene ontology analysis (GO)\n",
    "\n",
    "#Website\n",
    "#\"https://david.ncifcrf.gov/summary.jsp\""
   ]
  },
  {
   "cell_type": "code",
   "execution_count": null,
   "metadata": {
    "collapsed": true
   },
   "outputs": [],
   "source": [
    "#Differential gene expression analysis using DESeq and General Linear Model"
   ]
  }
 ],
 "metadata": {
  "kernelspec": {
   "display_name": "Python 3",
   "language": "python",
   "name": "python3"
  },
  "language_info": {
   "codemirror_mode": {
    "name": "ipython",
    "version": 3
   },
   "file_extension": ".py",
   "mimetype": "text/x-python",
   "name": "python",
   "nbconvert_exporter": "python",
   "pygments_lexer": "ipython3",
   "version": "3.6.0"
  }
 },
 "nbformat": 4,
 "nbformat_minor": 2
}
